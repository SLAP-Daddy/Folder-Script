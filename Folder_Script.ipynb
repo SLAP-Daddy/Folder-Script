{
 "cells": [
  {
   "cell_type": "markdown",
   "metadata": {},
   "source": [
    "Purpose of Code: Loop through target folder and subfolders and condense to new structre based on folder naming convention\n",
    "\n",
    "Original Examples:\n",
    "\n",
    "YYYYMM_#\n",
    "\n",
    "202301_a\n",
    "202301_b\n",
    "202301_c\n",
    "202302_a\n",
    "...\n",
    "\n",
    "Desired Aggregate:\n",
    "YYYYMM\n",
    "\n"
   ]
  },
  {
   "cell_type": "code",
   "execution_count": null,
   "metadata": {},
   "outputs": [],
   "source": [
    "import pathlib\n",
    "desktop = pathlib.Path(\"Desktop\")\n",
    "\n",
    "# Which you can wrap in a list() constructor to materialize\n",
    "list(desktop.rglob(\"*\"))"
   ]
  }
 ],
 "metadata": {
  "language_info": {
   "name": "python"
  }
 },
 "nbformat": 4,
 "nbformat_minor": 2
}
