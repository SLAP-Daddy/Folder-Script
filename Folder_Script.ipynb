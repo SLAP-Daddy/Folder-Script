{
 "cells": [
  {
   "cell_type": "markdown",
   "metadata": {},
   "source": [
    "Purpose of Code: Loop through target folder and subfolders and condense to new structre based on folder naming convention\n",
    "\n",
    "Original Examples:\n",
    "\n",
    "YYYYMM_#\n",
    "\n",
    "202301_a\n",
    "202301_b\n",
    "202301_c\n",
    "202302_a\n",
    "...\n",
    "\n",
    "Desired Aggregate:\n",
    "YYYYMM\n",
    "\n"
   ]
  },
  {
   "cell_type": "code",
   "execution_count": 1,
   "metadata": {},
   "outputs": [
    {
     "data": {
      "text/plain": [
       "[]"
      ]
     },
     "execution_count": 1,
     "metadata": {},
     "output_type": "execute_result"
    }
   ],
   "source": [
    "import pathlib\n",
    "desktop = pathlib.Path(\"Desktop\")\n",
    "\n",
    "# Which you can wrap in a list() constructor to materialize\n",
    "list(desktop.rglob(\"*\"))"
   ]
  }
 ],
 "metadata": {
  "kernelspec": {
   "display_name": "FolderStuff",
   "language": "python",
   "name": "python3"
  },
  "language_info": {
   "codemirror_mode": {
    "name": "ipython",
    "version": 3
   },
   "file_extension": ".py",
   "mimetype": "text/x-python",
   "name": "python",
   "nbconvert_exporter": "python",
   "pygments_lexer": "ipython3",
   "version": "3.7.16"
  }
 },
 "nbformat": 4,
 "nbformat_minor": 2
}
