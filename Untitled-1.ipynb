{
 "cells": [
  {
   "cell_type": "markdown",
   "metadata": {},
   "source": [
    "Purpose of Code: Loop through target folder and subfolders and condense to new structre based on folder naming convention\n",
    "\n",
    "Original Examples:\n",
    "\n",
    "YYYYMM_#\n",
    "\n",
    "202301_a\n",
    "202301_b\n",
    "202301_c\n",
    "202302_a\n",
    "...\n",
    "\n",
    "Desired Aggregate:\n",
    "YYYYMM\n",
    "\n"
   ]
  },
  {
   "cell_type": "code",
   "execution_count": 4,
   "metadata": {},
   "outputs": [
    {
     "name": "stdout",
     "output_type": "stream",
     "text": [
      "C:\\Users\\SLAP\\Documents\\Coding Projects\\Folder-Script\\Target_Folder\\202301_a\n",
      "2023\n",
      "C:\\Users\\SLAP\\Documents\\Coding Projects\\Folder-Script\\Target_Folder\\202301_b\n",
      "2023\n",
      "C:\\Users\\SLAP\\Documents\\Coding Projects\\Folder-Script\\Target_Folder\\202301_c\n",
      "2023\n",
      "C:\\Users\\SLAP\\Documents\\Coding Projects\\Folder-Script\\Target_Folder\\202301_d\n",
      "2023\n",
      "C:\\Users\\SLAP\\Documents\\Coding Projects\\Folder-Script\\Target_Folder\\202301_e\n",
      "2023\n",
      "C:\\Users\\SLAP\\Documents\\Coding Projects\\Folder-Script\\Target_Folder\\202402_a\n",
      "2024\n",
      "C:\\Users\\SLAP\\Documents\\Coding Projects\\Folder-Script\\Target_Folder\\202402_a\\202301_a\n",
      "2023\n",
      "C:\\Users\\SLAP\\Documents\\Coding Projects\\Folder-Script\\Target_Folder\\202402_a\\202301_b\n",
      "2023\n",
      "C:\\Users\\SLAP\\Documents\\Coding Projects\\Folder-Script\\Target_Folder\\202402_a\\202301_c\n",
      "2023\n",
      "C:\\Users\\SLAP\\Documents\\Coding Projects\\Folder-Script\\Target_Folder\\202402_b\n",
      "2024\n",
      "C:\\Users\\SLAP\\Documents\\Coding Projects\\Folder-Script\\Target_Folder\\202402_c\n",
      "2024\n",
      "C:\\Users\\SLAP\\Documents\\Coding Projects\\Folder-Script\\Target_Folder\\202402_c\\202301_d\n",
      "2023\n",
      "C:\\Users\\SLAP\\Documents\\Coding Projects\\Folder-Script\\Target_Folder\\202402_c\\202301_e\n",
      "2023\n"
     ]
    }
   ],
   "source": [
    "from pathlib import Path\n",
    "from os import walk\n",
    "searchDirectory = Path(r\"C:\\Users\\SLAP\\Documents\\Coding Projects\\Folder-Script\\Target_Folder\")\n",
    "\n",
    "walk(searchDirectory)\n",
    "\n",
    "parentItemPaths = [x[0] for x in walk(searchDirectory)]\n",
    "\n",
    "#childItemPaths = [x[2] for x in walk(searchDirectory)]\n",
    "\n",
    "#Skips first item because it is the Target folder which holds no images\n",
    "for item in parentItemPaths[1:]:\n",
    "    \n",
    "    searchFolder = item\n",
    "    targetFolderName = (item.rsplit('\\\\', 1)[-1])[:4]\n",
    "    Path(searchFolder).rglob(\"*\")\n",
    "\n",
    "    print(item)\n",
    "    print(targetFolderName)"
   ]
  }
 ],
 "metadata": {
  "kernelspec": {
   "display_name": "FolderStuff",
   "language": "python",
   "name": "python3"
  },
  "language_info": {
   "codemirror_mode": {
    "name": "ipython",
    "version": 3
   },
   "file_extension": ".py",
   "mimetype": "text/x-python",
   "name": "python",
   "nbconvert_exporter": "python",
   "pygments_lexer": "ipython3",
   "version": "3.11.7"
  }
 },
 "nbformat": 4,
 "nbformat_minor": 2
}
