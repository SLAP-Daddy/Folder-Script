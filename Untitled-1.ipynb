{
 "cells": [
  {
   "cell_type": "markdown",
   "metadata": {},
   "source": [
    "Purpose of Code: Loop through target folder and subfolders and condense to new structre based on folder naming convention\n",
    "\n",
    "Original Examples:\n",
    "\n",
    "YYYYMM_#\n",
    "\n",
    "202301_a\n",
    "202301_b\n",
    "202301_c\n",
    "202302_a\n",
    "...\n",
    "\n",
    "Desired Aggregate:\n",
    "YYYYMM\n",
    "\n"
   ]
  },
  {
   "cell_type": "code",
   "execution_count": 74,
   "metadata": {},
   "outputs": [
    {
     "ename": "FileExistsError",
     "evalue": "[WinError 183] Cannot create a file when that file already exists: 'C:\\\\Users\\\\spascual\\\\source\\\\Projects\\\\Folder Script\\\\Target_Folder\\\\202301_b\\\\Test File 1.txt' -> 'C:\\\\Users\\\\spascual\\\\source\\\\Projects\\\\Folder Script\\\\Paste_Folder\\\\2023\\\\Test File 1.txt'",
     "output_type": "error",
     "traceback": [
      "\u001b[1;31m---------------------------------------------------------------------------\u001b[0m",
      "\u001b[1;31mFileExistsError\u001b[0m                           Traceback (most recent call last)",
      "\u001b[1;32m~\\AppData\\Local\\Temp\\ipykernel_15672\\762150517.py\u001b[0m in \u001b[0;36m<module>\u001b[1;34m\u001b[0m\n\u001b[0;32m     22\u001b[0m \u001b[1;33m\u001b[0m\u001b[0m\n\u001b[0;32m     23\u001b[0m \u001b[1;32mfor\u001b[0m \u001b[0mmove\u001b[0m \u001b[1;32min\u001b[0m \u001b[0mtargetFiles\u001b[0m\u001b[1;33m:\u001b[0m\u001b[1;33m\u001b[0m\u001b[1;33m\u001b[0m\u001b[0m\n\u001b[1;32m---> 24\u001b[1;33m     \u001b[0mPath\u001b[0m\u001b[1;33m(\u001b[0m\u001b[0mmove\u001b[0m\u001b[1;33m[\u001b[0m\u001b[1;36m0\u001b[0m\u001b[1;33m]\u001b[0m\u001b[1;33m)\u001b[0m\u001b[1;33m.\u001b[0m\u001b[0mrename\u001b[0m\u001b[1;33m(\u001b[0m\u001b[0mmove\u001b[0m\u001b[1;33m[\u001b[0m\u001b[1;36m1\u001b[0m\u001b[1;33m]\u001b[0m\u001b[1;33m)\u001b[0m\u001b[1;33m\u001b[0m\u001b[1;33m\u001b[0m\u001b[0m\n\u001b[0m\u001b[0;32m     25\u001b[0m     \u001b[0mprint\u001b[0m\u001b[1;33m(\u001b[0m\u001b[0mmove\u001b[0m\u001b[1;33m[\u001b[0m\u001b[1;36m0\u001b[0m\u001b[1;33m]\u001b[0m\u001b[1;33m)\u001b[0m\u001b[1;33m\u001b[0m\u001b[1;33m\u001b[0m\u001b[0m\n\u001b[0;32m     26\u001b[0m     \u001b[0mprint\u001b[0m\u001b[1;33m(\u001b[0m\u001b[0mmove\u001b[0m\u001b[1;33m[\u001b[0m\u001b[1;36m1\u001b[0m\u001b[1;33m]\u001b[0m\u001b[1;33m)\u001b[0m\u001b[1;33m\u001b[0m\u001b[1;33m\u001b[0m\u001b[0m\n",
      "\u001b[1;32mc:\\Users\\spascual\\AppData\\Local\\miniconda3\\envs\\FolderStuff\\lib\\pathlib.py\u001b[0m in \u001b[0;36mrename\u001b[1;34m(self, target)\u001b[0m\n\u001b[0;32m   1332\u001b[0m         \u001b[1;32mif\u001b[0m \u001b[0mself\u001b[0m\u001b[1;33m.\u001b[0m\u001b[0m_closed\u001b[0m\u001b[1;33m:\u001b[0m\u001b[1;33m\u001b[0m\u001b[1;33m\u001b[0m\u001b[0m\n\u001b[0;32m   1333\u001b[0m             \u001b[0mself\u001b[0m\u001b[1;33m.\u001b[0m\u001b[0m_raise_closed\u001b[0m\u001b[1;33m(\u001b[0m\u001b[1;33m)\u001b[0m\u001b[1;33m\u001b[0m\u001b[1;33m\u001b[0m\u001b[0m\n\u001b[1;32m-> 1334\u001b[1;33m         \u001b[0mself\u001b[0m\u001b[1;33m.\u001b[0m\u001b[0m_accessor\u001b[0m\u001b[1;33m.\u001b[0m\u001b[0mrename\u001b[0m\u001b[1;33m(\u001b[0m\u001b[0mself\u001b[0m\u001b[1;33m,\u001b[0m \u001b[0mtarget\u001b[0m\u001b[1;33m)\u001b[0m\u001b[1;33m\u001b[0m\u001b[1;33m\u001b[0m\u001b[0m\n\u001b[0m\u001b[0;32m   1335\u001b[0m \u001b[1;33m\u001b[0m\u001b[0m\n\u001b[0;32m   1336\u001b[0m     \u001b[1;32mdef\u001b[0m \u001b[0mreplace\u001b[0m\u001b[1;33m(\u001b[0m\u001b[0mself\u001b[0m\u001b[1;33m,\u001b[0m \u001b[0mtarget\u001b[0m\u001b[1;33m)\u001b[0m\u001b[1;33m:\u001b[0m\u001b[1;33m\u001b[0m\u001b[1;33m\u001b[0m\u001b[0m\n",
      "\u001b[1;31mFileExistsError\u001b[0m: [WinError 183] Cannot create a file when that file already exists: 'C:\\\\Users\\\\spascual\\\\source\\\\Projects\\\\Folder Script\\\\Target_Folder\\\\202301_b\\\\Test File 1.txt' -> 'C:\\\\Users\\\\spascual\\\\source\\\\Projects\\\\Folder Script\\\\Paste_Folder\\\\2023\\\\Test File 1.txt'"
     ]
    }
   ],
   "source": [
    "from os import walk, path, makedirs\n",
    "from pathlib import Path\n",
    "\n",
    "targetFiles = []\n",
    "\n",
    "searchDirectory = Path(r\"C:\\Users\\spascual\\source\\Projects\\Folder Script\\Target_Folder\")\n",
    "\n",
    "pasteDirectory = Path(r\"C:\\Users\\spascual\\source\\Projects\\Folder Script\\Paste_Folder\")\n",
    "\n",
    "i = 0\n",
    "\n",
    "for dirpath, subdirs, files in walk(searchDirectory):\n",
    "    targetFolderName = (dirpath.rsplit('\\\\', 1)[-1])[:4]\n",
    "\n",
    "    for x in files:\n",
    "        targetFiles.append([path.join(dirpath, x), path.join(pasteDirectory, targetFolderName, x)])\n",
    "        pasteFolder = path.join(pasteDirectory, targetFolderName)\n",
    "        if not path.exists(pasteFolder):\n",
    "            makedirs(pasteFolder)\n",
    "\n",
    "        i = i + 1\n",
    "\n",
    "for move in targetFiles:\n",
    "    Path(move[0]).rename(move[1])\n",
    "    print(move[0])\n",
    "    print(move[1])\n",
    "\n",
    "\"\"\"\n",
    "j = 0\n",
    "\n",
    "for line in targetFiles:\n",
    "    print(targetFiles[j])\n",
    "    j = j + 1\n",
    "\"\"\"\n",
    "\n",
    "\n"
   ]
  }
 ],
 "metadata": {
  "kernelspec": {
   "display_name": "FolderStuff",
   "language": "python",
   "name": "python3"
  },
  "language_info": {
   "codemirror_mode": {
    "name": "ipython",
    "version": 3
   },
   "file_extension": ".py",
   "mimetype": "text/x-python",
   "name": "python",
   "nbconvert_exporter": "python",
   "pygments_lexer": "ipython3",
   "version": "3.11.7"
  }
 },
 "nbformat": 4,
 "nbformat_minor": 2
}
